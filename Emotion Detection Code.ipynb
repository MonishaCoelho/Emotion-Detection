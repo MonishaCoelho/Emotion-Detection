{
 "cells": [
  {
   "cell_type": "markdown",
   "id": "e81b1c43",
   "metadata": {},
   "source": [
    "### Emotion Detection Code"
   ]
  },
  {
   "cell_type": "code",
   "execution_count": 1,
   "id": "3b051b2c",
   "metadata": {},
   "outputs": [
    {
     "name": "stdout",
     "output_type": "stream",
     "text": [
      "^C\n"
     ]
    }
   ],
   "source": [
    "!pip install opencv-python"
   ]
  },
  {
   "cell_type": "code",
   "execution_count": 2,
   "id": "6ca7a1da",
   "metadata": {},
   "outputs": [],
   "source": [
    "import pandas as pd\n",
    "import numpy as np\n",
    "import matplotlib.pyplot as plt\n",
    "from tensorflow import keras\n",
    "from keras.models import Sequential\n",
    "from keras.layers import Conv2D, MaxPooling2D, Dense, Flatten, Dropout\n",
    "import seaborn as sns\n",
    "import cv2"
   ]
  },
  {
   "cell_type": "code",
   "execution_count": 3,
   "id": "c19db933",
   "metadata": {},
   "outputs": [],
   "source": [
    "from sklearn.model_selection import train_test_split\n",
    "import glob\n",
    "from tqdm import tqdm\n",
    "import os\n",
    "from os import listdir\n",
    "from keras.callbacks import EarlyStopping, ModelCheckpoint\n",
    "from keras.preprocessing.image import ImageDataGenerator"
   ]
  },
  {
   "cell_type": "code",
   "execution_count": 22,
   "id": "8989db7a",
   "metadata": {},
   "outputs": [
    {
     "name": "stdout",
     "output_type": "stream",
     "text": [
      "['C:\\\\Users\\\\Ryona Elza Sabu\\\\Desktop\\\\BE AI - 3rd Year\\\\CV\\\\CV Project\\\\train\\\\angry', 'C:\\\\Users\\\\Ryona Elza Sabu\\\\Desktop\\\\BE AI - 3rd Year\\\\CV\\\\CV Project\\\\train\\\\disgust', 'C:\\\\Users\\\\Ryona Elza Sabu\\\\Desktop\\\\BE AI - 3rd Year\\\\CV\\\\CV Project\\\\train\\\\fear', 'C:\\\\Users\\\\Ryona Elza Sabu\\\\Desktop\\\\BE AI - 3rd Year\\\\CV\\\\CV Project\\\\train\\\\happy', 'C:\\\\Users\\\\Ryona Elza Sabu\\\\Desktop\\\\BE AI - 3rd Year\\\\CV\\\\CV Project\\\\train\\\\neutral', 'C:\\\\Users\\\\Ryona Elza Sabu\\\\Desktop\\\\BE AI - 3rd Year\\\\CV\\\\CV Project\\\\train\\\\sad', 'C:\\\\Users\\\\Ryona Elza Sabu\\\\Desktop\\\\BE AI - 3rd Year\\\\CV\\\\CV Project\\\\train\\\\surprise']\n"
     ]
    }
   ],
   "source": [
    "emotions=[\"angry\",\"disgust\",\"fear\",\"happy\",\"neutral\",\"sad\",\"surprise\"]\n",
    "all_files=glob.glob(r\"C:\\Users\\Ryona Elza Sabu\\Desktop\\BE AI - 3rd Year\\CV\\CV Project\\train\\*\")\n",
    "print(all_files)"
   ]
  },
  {
   "cell_type": "code",
   "execution_count": 23,
   "id": "6ab870b2",
   "metadata": {},
   "outputs": [
    {
     "name": "stderr",
     "output_type": "stream",
     "text": [
      "100%|████████████████████████████████████████████████████████████████████████████████████| 7/7 [00:06<00:00,  1.14it/s]\n"
     ]
    }
   ],
   "source": [
    "x=[]\n",
    "y=[]\n",
    "i=0\n",
    "for f in tqdm(all_files) :\n",
    "    for image in listdir(f) :\n",
    "        file_path=r\"\"+f+\"\\\\\"+image\n",
    "        img=cv2.imread(file_path,0)\n",
    "        x.append(img)\n",
    "        y.append(i)\n",
    "    i=i+1"
   ]
  },
  {
   "cell_type": "code",
   "execution_count": 24,
   "id": "9abba664",
   "metadata": {},
   "outputs": [
    {
     "name": "stdout",
     "output_type": "stream",
     "text": [
      "<class 'numpy.ndarray'>\n",
      "28709\n",
      "28709\n",
      "<class 'numpy.ndarray'>\n"
     ]
    }
   ],
   "source": [
    "print(type(x[0]))\n",
    "x=np.array(x)\n",
    "y=np.array(y)\n",
    "print(len(x))\n",
    "print(len(y))\n",
    "x_train,x_test,y_train,y_test=train_test_split(x,y,test_size=0.2,random_state=42)\n",
    "print(type(y_train))"
   ]
  },
  {
   "cell_type": "code",
   "execution_count": 30,
   "id": "da5a680b",
   "metadata": {},
   "outputs": [],
   "source": [
    "x_train=x_train.reshape((x_train.shape[0],48,48,1))\n",
    "x_test=x_test.reshape((x_test.shape[0],48,48,1))\n",
    "x_train = np.expand_dims(x_train, axis=0)\n",
    "x_train = np.expand_dims(x_train, axis=-1)\n",
    "x_train=x_train.astype(\"float32\")/255.0\n",
    "x_test=x_test.astype(\"float32\")/255.0"
   ]
  },
  {
   "cell_type": "code",
   "execution_count": 31,
   "id": "281b35a2",
   "metadata": {},
   "outputs": [],
   "source": [
    "datagen=ImageDataGenerator(rotation_range=10, zoom_range=0.1, width_shift_range=0.1, height_shift_range=0.1, shear_range=0.1,\n",
    "                          horizontal_flip=False, vertical_flip=True)"
   ]
  },
  {
   "cell_type": "code",
   "execution_count": 32,
   "id": "76094b54",
   "metadata": {},
   "outputs": [],
   "source": [
    "model=model2=model3=Sequential()\n",
    "model.add(Conv2D(512,input_shape=(48,48,1), kernel_size=(3,3), activation=\"relu\",padding=\"same\"))\n",
    "model.add(MaxPooling2D(pool_size=(2,2)))\n",
    "model.add(Dropout(0.4))\n",
    "model.add(Conv2D(256, kernel_size=(3,3), activation=\"relu\", padding=\"same\"))\n",
    "model.add(MaxPooling2D(pool_size=(2,2)))\n",
    "model.add(Dropout(0.4))\n",
    "model.add(Flatten())\n",
    "model.add(Dense(128, activation=\"relu\"))\n",
    "model.add(Dense(64, activation=\"relu\"))\n",
    "model.add(Dense(7,activation=\"softmax\"))"
   ]
  },
  {
   "cell_type": "code",
   "execution_count": 10,
   "id": "d9106b45",
   "metadata": {},
   "outputs": [],
   "source": [
    "model2.add(Conv2D(256,input_shape=(48,48,1), kernel_size=(3,3), activation=\"relu\",padding=\"same\"))\n",
    "model2.add(MaxPooling2D(pool_size=(2,2),padding=\"same\"))#,data_format =  'channels_first'))\n",
    "model2.add(Dropout(0.4))\n",
    "model2.add(Flatten())\n",
    "model2.add(Dense(128, activation=\"relu\"))\n",
    "model2.add(Dense(64, activation=\"relu\"))\n",
    "model2.add(Dense(7,activation=\"softmax\"))"
   ]
  },
  {
   "cell_type": "code",
   "execution_count": null,
   "id": "58ef7f4f",
   "metadata": {},
   "outputs": [],
   "source": []
  },
  {
   "cell_type": "code",
   "execution_count": null,
   "id": "ef4b4d43",
   "metadata": {
    "scrolled": true
   },
   "outputs": [
    {
     "name": "stdout",
     "output_type": "stream",
     "text": [
      "Epoch 1/25\n",
      "1436/1436 [==============================] - 1480s 1s/step - loss: 1.7348 - accuracy: 0.2956 - val_loss: 1.6228 - val_accuracy: 0.3734\n",
      "Epoch 2/25\n",
      "  86/1436 [>.............................] - ETA: 22:39 - loss: 1.6166 - accuracy: 0.3576"
     ]
    }
   ],
   "source": [
    "model.compile(loss=\"sparse_categorical_crossentropy\", optimizer=\"adam\", metrics=[\"accuracy\"])\n",
    "history=model.fit(x_train,y_train,validation_data=(x_test,y_test), batch_size=16, epochs=5)"
   ]
  },
  {
   "cell_type": "code",
   "execution_count": null,
   "id": "0728224f",
   "metadata": {},
   "outputs": [],
   "source": [
    "model.save(\"Emotion_Model2.h5\")"
   ]
  },
  {
   "cell_type": "code",
   "execution_count": 11,
   "id": "3c1ab8d4",
   "metadata": {},
   "outputs": [
    {
     "name": "stdout",
     "output_type": "stream",
     "text": [
      "Epoch 1/5\n",
      "1436/1436 [==============================] - ETA: 0s - loss: 1.6764 - accuracy: 0.3318"
     ]
    },
    {
     "name": "stderr",
     "output_type": "stream",
     "text": [
      "C:\\Users\\Ryona Elza Sabu\\AppData\\Local\\Programs\\Python\\Python311\\Lib\\site-packages\\keras\\src\\engine\\training.py:3079: UserWarning: You are saving your model as an HDF5 file via `model.save()`. This file format is considered legacy. We recommend using instead the native Keras format, e.g. `model.save('my_model.keras')`.\n",
      "  saving_api.save_model(\n"
     ]
    },
    {
     "name": "stdout",
     "output_type": "stream",
     "text": [
      "1436/1436 [==============================] - 518s 360ms/step - loss: 1.6764 - accuracy: 0.3318 - val_loss: 1.5534 - val_accuracy: 0.3945\n",
      "Epoch 2/5\n",
      "1436/1436 [==============================] - 538s 375ms/step - loss: 1.4849 - accuracy: 0.4260 - val_loss: 1.4439 - val_accuracy: 0.4377\n",
      "Epoch 3/5\n",
      "1436/1436 [==============================] - 559s 389ms/step - loss: 1.3700 - accuracy: 0.4769 - val_loss: 1.4256 - val_accuracy: 0.4425\n",
      "Epoch 4/5\n",
      "1436/1436 [==============================] - 547s 381ms/step - loss: 1.2702 - accuracy: 0.5158 - val_loss: 1.4190 - val_accuracy: 0.4695\n",
      "Epoch 5/5\n",
      "1436/1436 [==============================] - 517s 360ms/step - loss: 1.1747 - accuracy: 0.5552 - val_loss: 1.4587 - val_accuracy: 0.4652\n"
     ]
    }
   ],
   "source": [
    "model2.compile(loss=\"sparse_categorical_crossentropy\", optimizer=\"adam\", metrics=[\"accuracy\"])\n",
    "earlystop=EarlyStopping(monitor=\"val_loss\", patience=10)\n",
    "best_weights=ModelCheckpoint(\"best_weights.h5\", save_best_only=True, monitor=\"val_loss\", mode=\"min\")\n",
    "history2=model2.fit(x_train,y_train,validation_data=(x_test,y_test), batch_size=16, epochs=5,\n",
    "                   callbacks=[earlystop,best_weights])"
   ]
  },
  {
   "cell_type": "code",
   "execution_count": 12,
   "id": "16277c63",
   "metadata": {},
   "outputs": [],
   "source": [
    "model2.save(\"Emotion_Model3.h5\")"
   ]
  },
  {
   "cell_type": "code",
   "execution_count": null,
   "id": "9107b123",
   "metadata": {},
   "outputs": [],
   "source": []
  },
  {
   "cell_type": "code",
   "execution_count": null,
   "id": "df200526",
   "metadata": {},
   "outputs": [],
   "source": []
  },
  {
   "cell_type": "code",
   "execution_count": null,
   "id": "a97facd4",
   "metadata": {},
   "outputs": [],
   "source": [
    "plt.plot(history.history[\"loss\"], label=\"Training\")\n",
    "plt.plot(history.history[\"val_loss\"], label=\"Testing\")\n",
    "plt.title(\"Model Loss\")\n",
    "plt.xlabel(\"Epochs\")\n",
    "plt.ylabel(\"Loss\")\n",
    "plt.legend()\n",
    "plt.show()"
   ]
  },
  {
   "cell_type": "code",
   "execution_count": 13,
   "id": "0fca1d85",
   "metadata": {},
   "outputs": [
    {
     "data": {
      "image/png": "[encoded data removed]",
      "text/plain": [
       "<Figure size 640x480 with 1 Axes>"
      ]
     },
     "metadata": {},
     "output_type": "display_data"
    }
   ],
   "source": [
    "plt.plot(history2.history[\"loss\"], label=\"Training\")\n",
    "plt.plot(history2.history[\"val_loss\"], label=\"Testing\")\n",
    "plt.title(\"Model Loss\")\n",
    "plt.xlabel(\"Epochs\")\n",
    "plt.ylabel(\"Loss\")\n",
    "plt.legend()\n",
    "plt.show()"
   ]
  },
  {
   "cell_type": "code",
   "execution_count": null,
   "id": "c685a12c",
   "metadata": {},
   "outputs": [],
   "source": []
  },
  {
   "cell_type": "code",
   "execution_count": 4,
   "id": "58af2796",
   "metadata": {},
   "outputs": [
    {
     "name": "stdout",
     "output_type": "stream",
     "text": [
      "(48, 48)\n",
      "1/1 [==============================] - 0s 289ms/step\n",
      "The emotion displayed is  Angry\n"
     ]
    }
   ],
   "source": [
    "img=cv2.imread(r\"C:\\Users\\Ryona Elza Sabu\\Desktop\\BE AI - 3rd Year\\CV\\CV Project\\test\\angry\\PrivateTest_731447.jpg\",0)\n",
    "cv2.imshow(\"Image\",img)\n",
    "cv2.waitKey(0)\n",
    "cv2.destroyAllWindows()\n",
    "img=cv2.resize(img, (48,48))\n",
    "loaded_model=keras.models.load_model(\"Emotion_Model2.h5\")\n",
    "emotions=[\"Angry\",\"Disgust\",\"Fear\",\"Happy\",\"Neutral\",\"Sad\",\"Surprise\"]\n",
    "print(img.shape)\n",
    "img=np.array(img)\n",
    "img=img.reshape((48,48,1))\n",
    "img = np.expand_dims(img, axis=0)\n",
    "img = np.expand_dims(img, axis=-1)\n",
    "img=img.astype(\"float32\")/255.0\n",
    "prob1=loaded_model.predict(img)\n",
    "#prob2=model2.predict(img)\n",
    "ind=np.argmax(prob1)\n",
    "#ind2=np.argmax(prob2)\n",
    "print(\"The emotion displayed is \",emotions[ind])\n",
    "#print(\"The emotion displayed is \",emotions[ind2])"
   ]
  },
  {
   "cell_type": "code",
   "execution_count": 4,
   "id": "2080193f",
   "metadata": {},
   "outputs": [
    {
     "name": "stdout",
     "output_type": "stream",
     "text": [
      "Model: \"sequential\"\n",
      "_________________________________________________________________\n",
      " Layer (type)                Output Shape              Param #   \n",
      "=================================================================\n",
      " conv2d (Conv2D)             (None, 48, 48, 512)       5120      \n",
      "                                                                 \n",
      " max_pooling2d (MaxPooling2  (None, 24, 24, 512)       0         \n",
      " D)                                                              \n",
      "                                                                 \n",
      " dropout (Dropout)           (None, 24, 24, 512)       0         \n",
      "                                                                 \n",
      " conv2d_1 (Conv2D)           (None, 24, 24, 256)       1179904   \n",
      "                                                                 \n",
      " max_pooling2d_1 (MaxPoolin  (None, 12, 12, 256)       0         \n",
      " g2D)                                                            \n",
      "                                                                 \n",
      " dropout_1 (Dropout)         (None, 12, 12, 256)       0         \n",
      "                                                                 \n",
      " flatten (Flatten)           (None, 36864)             0         \n",
      "                                                                 \n",
      " dense (Dense)               (None, 128)               4718720   \n",
      "                                                                 \n",
      " dense_1 (Dense)             (None, 64)                8256      \n",
      "                                                                 \n",
      " dense_2 (Dense)             (None, 7)                 455       \n",
      "                                                                 \n",
      "=================================================================\n",
      "Total params: 5912455 (22.55 MB)\n",
      "Trainable params: 5912455 (22.55 MB)\n",
      "Non-trainable params: 0 (0.00 Byte)\n",
      "_________________________________________________________________\n"
     ]
    }
   ],
   "source": [
    "loaded_model.summary()"
   ]
  },
  {
   "cell_type": "code",
   "execution_count": null,
   "id": "5775af32",
   "metadata": {},
   "outputs": [],
   "source": []
  }
 ],
 "metadata": {
  "kernelspec": {
   "display_name": "Python 3 (ipykernel)",
   "language": "python",
   "name": "python3"
  },
  "language_info": {
   "codemirror_mode": {
    "name": "ipython",
    "version": 3
   },
   "file_extension": ".py",
   "mimetype": "text/x-python",
   "name": "python",
   "nbconvert_exporter": "python",
   "pygments_lexer": "ipython3",
   "version": "3.11.1"
  }
 },
 "nbformat": 4,
 "nbformat_minor": 5
}
